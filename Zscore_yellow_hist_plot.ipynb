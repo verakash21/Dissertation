{
 "cells": [
  {
   "cell_type": "code",
   "execution_count": null,
   "metadata": {},
   "outputs": [],
   "source": [
    "%matplotlib inline\n",
    "import numpy as np\n",
    "import matplotlib.pyplot as plt\n",
    "import pandas as pd\n",
    "\n",
    "def plotGraph(df, df_bleed, color, color_bleed, col1, col_name):\n",
    "    #min_val = np.minimum(df.iloc[0:100,col1].min(), df_bleed.iloc[0:120,col1].min())\n",
    "    #max_val = np.maximum(df.iloc[0:100,col1].max(),df_bleed.iloc[0:120,col1].max())\n",
    "    plt.figure(figsize=(10,5))\n",
    "    plt.subplot(1, 2, 1)\n",
    "    bin_size = 0.1; min_edge = -5; max_edge = 5\n",
    "    N = (max_edge-min_edge)/bin_size; Nplus1 = N + 1\n",
    "    bin_list = np.linspace(min_edge, max_edge, int(Nplus1))\n",
    "    plt.hist(df.iloc[0:100,col1], color=color,edgecolor = 'black',alpha=0.5,  bins=bin_list, label='Healthy')\n",
    "    plt.legend(loc='upper right')\n",
    "    plt.title('Histogram of Zscore values for {}'.format(col_name))\n",
    "    plt.xlabel('Zscore value')\n",
    "    plt.ylabel('Count') \n",
    "    axes = plt.gca()\n",
    "    axes.set_ylim([0,12])\n",
    "    plt.subplot(1, 2, 2)\n",
    "    plt.hist(df_bleed.iloc[0:120,col1],color=color_bleed,edgecolor = 'black',alpha=0.5,  bins=bin_list, label='Bleeding')\n",
    "    plt.xlabel('Zscore value')\n",
    "    plt.ylabel('Count') \n",
    "    plt.legend(loc='upper right')\n",
    "    axes = plt.gca()\n",
    "    #axes.set_xlim([xmin,xmax])\n",
    "    axes.set_ylim([0,12])\n",
    "    plt.tight_layout()\n",
    "    plt.show()\n",
    "    plt.clf()\n",
    "    return\n",
    "\n",
    "\n",
    "def printGraph(df, df_bleed, color, color_bleed):\n",
    "   plotGraph(df, df_bleed, color, color_bleed, 11,'z00')\n",
    "   plotGraph(df, df_bleed, color, color_bleed, 12,'z11')\n",
    "   plotGraph(df, df_bleed, color, color_bleed, 13,'z20')\n",
    "   plotGraph(df, df_bleed, color, color_bleed, 14,'z22')\n",
    "   plotGraph(df, df_bleed, color, color_bleed, 15,'z31')\n",
    "   plotGraph(df, df_bleed, color, color_bleed, 16,'z33')\n",
    "   plotGraph(df, df_bleed, color, color_bleed, 17,'z40')\n",
    "   plotGraph(df, df_bleed, color, color_bleed, 18,'z42')\n",
    "   plotGraph(df, df_bleed, color, color_bleed, 19,'z44')\n",
    "   return\n",
    "\n",
    "data_file = 'Moments_yellow_data_normal.xlsx'\n",
    "df = pd.read_excel(data_file)\n",
    "data_file = 'Moments_yellow_data_bleeding.xlsx'\n",
    "df_1 = pd.read_excel(data_file)\n",
    "printGraph(df,df_1,'blue','red')"
   ]
  }
 ],
 "metadata": {
  "kernelspec": {
   "display_name": "Python 3",
   "language": "python",
   "name": "python3"
  },
  "language_info": {
   "codemirror_mode": {
    "name": "ipython",
    "version": 3
   },
   "file_extension": ".py",
   "mimetype": "text/x-python",
   "name": "python",
   "nbconvert_exporter": "python",
   "pygments_lexer": "ipython3",
   "version": "3.7.3"
  }
 },
 "nbformat": 4,
 "nbformat_minor": 4
}
